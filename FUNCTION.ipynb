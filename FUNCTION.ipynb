{
  "nbformat": 4,
  "nbformat_minor": 0,
  "metadata": {
    "colab": {
      "provenance": []
    },
    "kernelspec": {
      "name": "python3",
      "display_name": "Python 3"
    },
    "language_info": {
      "name": "python"
    }
  },
  "cells": [
    {
      "cell_type": "markdown",
      "source": [],
      "metadata": {
        "id": "1eSVxLJb7tvH"
      }
    },
    {
      "cell_type": "markdown",
      "source": [
        "function\n"
      ],
      "metadata": {
        "id": "HxWPtASYMp3m"
      }
    },
    {
      "cell_type": "markdown",
      "source": [
        "1. what is python ?\n",
        " - python is a language of computer .\n",
        "\n",
        " 2. diffrence b/w python and sql /\n",
        "   - the main diffrent in python .\n",
        "   "
      ],
      "metadata": {
        "id": "Ngyky-SOM9EI"
      }
    },
    {
      "cell_type": "code",
      "source": [
        "# quction\n",
        "\"\"\"\n",
        "this is a answer of quction.\n",
        "\n",
        "\"\"\""
      ],
      "metadata": {
        "id": "xqUXe2TuMpmc"
      },
      "execution_count": null,
      "outputs": []
    },
    {
      "cell_type": "code",
      "execution_count": null,
      "metadata": {
        "id": "vz2d1cQ17pQm"
      },
      "outputs": [],
      "source": []
    },
    {
      "cell_type": "code",
      "source": [],
      "metadata": {
        "id": "Sc2bSt-zIuL4"
      },
      "execution_count": null,
      "outputs": []
    }
  ]
}